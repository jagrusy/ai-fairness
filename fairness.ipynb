{
 "cells": [
  {
   "cell_type": "markdown",
   "metadata": {},
   "source": [
    "# AI for Ethics\n",
    "Final Project Summer 2020"
   ]
  },
  {
   "cell_type": "code",
   "execution_count": 1,
   "metadata": {},
   "outputs": [],
   "source": [
    "import pandas as pd\n",
    "import numpy as np\n",
    "import matplotlib.pyplot as plt"
   ]
  },
  {
   "cell_type": "code",
   "execution_count": 2,
   "metadata": {
    "tags": []
   },
   "outputs": [
    {
     "output_type": "stream",
     "name": "stdout",
     "text": "Requirement already satisfied: aif360 in /Users/jagrusy/opt/miniconda3/lib/python3.7/site-packages (0.3.0)\nRequirement already satisfied: pandas>=0.24.0 in /Users/jagrusy/opt/miniconda3/lib/python3.7/site-packages (from aif360) (1.0.5)\nRequirement already satisfied: numpy>=1.16 in /Users/jagrusy/opt/miniconda3/lib/python3.7/site-packages (from aif360) (1.19.0)\nRequirement already satisfied: scipy>=1.2.0 in /Users/jagrusy/opt/miniconda3/lib/python3.7/site-packages (from aif360) (1.4.1)\nRequirement already satisfied: matplotlib in /Users/jagrusy/opt/miniconda3/lib/python3.7/site-packages (from aif360) (3.2.2)\nRequirement already satisfied: scikit-learn>=0.21 in /Users/jagrusy/.local/lib/python3.7/site-packages (from aif360) (0.23.1)\nRequirement already satisfied: python-dateutil>=2.6.1 in /Users/jagrusy/opt/miniconda3/lib/python3.7/site-packages (from pandas>=0.24.0->aif360) (2.8.1)\nRequirement already satisfied: pytz>=2017.2 in /Users/jagrusy/opt/miniconda3/lib/python3.7/site-packages (from pandas>=0.24.0->aif360) (2020.1)\nRequirement already satisfied: kiwisolver>=1.0.1 in /Users/jagrusy/opt/miniconda3/lib/python3.7/site-packages (from matplotlib->aif360) (1.2.0)\nRequirement already satisfied: cycler>=0.10 in /Users/jagrusy/opt/miniconda3/lib/python3.7/site-packages (from matplotlib->aif360) (0.10.0)\nRequirement already satisfied: pyparsing!=2.0.4,!=2.1.2,!=2.1.6,>=2.0.1 in /Users/jagrusy/opt/miniconda3/lib/python3.7/site-packages (from matplotlib->aif360) (2.4.7)\nRequirement already satisfied: joblib>=0.11 in /Users/jagrusy/.local/lib/python3.7/site-packages (from scikit-learn>=0.21->aif360) (0.16.0)\nRequirement already satisfied: threadpoolctl>=2.0.0 in /Users/jagrusy/.local/lib/python3.7/site-packages (from scikit-learn>=0.21->aif360) (2.1.0)\nRequirement already satisfied: six>=1.5 in /Users/jagrusy/opt/miniconda3/lib/python3.7/site-packages (from python-dateutil>=2.6.1->pandas>=0.24.0->aif360) (1.15.0)\nRequirement already satisfied: tensorflow in /Users/jagrusy/opt/miniconda3/lib/python3.7/site-packages (2.2.0)\nRequirement already satisfied: opt-einsum>=2.3.2 in /Users/jagrusy/opt/miniconda3/lib/python3.7/site-packages (from tensorflow) (3.3.0)\nRequirement already satisfied: protobuf>=3.8.0 in /Users/jagrusy/opt/miniconda3/lib/python3.7/site-packages (from tensorflow) (3.12.2)\nRequirement already satisfied: tensorflow-estimator<2.3.0,>=2.2.0 in /Users/jagrusy/opt/miniconda3/lib/python3.7/site-packages (from tensorflow) (2.2.0)\nRequirement already satisfied: tensorboard<2.3.0,>=2.2.0 in /Users/jagrusy/opt/miniconda3/lib/python3.7/site-packages (from tensorflow) (2.2.2)\nRequirement already satisfied: termcolor>=1.1.0 in /Users/jagrusy/opt/miniconda3/lib/python3.7/site-packages (from tensorflow) (1.1.0)\nRequirement already satisfied: keras-preprocessing>=1.1.0 in /Users/jagrusy/opt/miniconda3/lib/python3.7/site-packages (from tensorflow) (1.1.2)\nRequirement already satisfied: numpy<2.0,>=1.16.0 in /Users/jagrusy/opt/miniconda3/lib/python3.7/site-packages (from tensorflow) (1.19.0)\nRequirement already satisfied: grpcio>=1.8.6 in /Users/jagrusy/opt/miniconda3/lib/python3.7/site-packages (from tensorflow) (1.30.0)\nRequirement already satisfied: absl-py>=0.7.0 in /Users/jagrusy/opt/miniconda3/lib/python3.7/site-packages (from tensorflow) (0.9.0)\nRequirement already satisfied: h5py<2.11.0,>=2.10.0 in /Users/jagrusy/opt/miniconda3/lib/python3.7/site-packages (from tensorflow) (2.10.0)\nRequirement already satisfied: wheel>=0.26; python_version >= \"3\" in /Users/jagrusy/opt/miniconda3/lib/python3.7/site-packages (from tensorflow) (0.34.2)\nRequirement already satisfied: wrapt>=1.11.1 in /Users/jagrusy/opt/miniconda3/lib/python3.7/site-packages (from tensorflow) (1.12.1)\nRequirement already satisfied: astunparse==1.6.3 in /Users/jagrusy/opt/miniconda3/lib/python3.7/site-packages (from tensorflow) (1.6.3)\nRequirement already satisfied: scipy==1.4.1; python_version >= \"3\" in /Users/jagrusy/opt/miniconda3/lib/python3.7/site-packages (from tensorflow) (1.4.1)\nRequirement already satisfied: gast==0.3.3 in /Users/jagrusy/opt/miniconda3/lib/python3.7/site-packages (from tensorflow) (0.3.3)\nRequirement already satisfied: six>=1.12.0 in /Users/jagrusy/opt/miniconda3/lib/python3.7/site-packages (from tensorflow) (1.15.0)\nRequirement already satisfied: google-pasta>=0.1.8 in /Users/jagrusy/opt/miniconda3/lib/python3.7/site-packages (from tensorflow) (0.2.0)\nRequirement already satisfied: setuptools in /Users/jagrusy/opt/miniconda3/lib/python3.7/site-packages (from protobuf>=3.8.0->tensorflow) (47.1.1.post20200604)\nRequirement already satisfied: werkzeug>=0.11.15 in /Users/jagrusy/opt/miniconda3/lib/python3.7/site-packages (from tensorboard<2.3.0,>=2.2.0->tensorflow) (1.0.1)\nRequirement already satisfied: markdown>=2.6.8 in /Users/jagrusy/opt/miniconda3/lib/python3.7/site-packages (from tensorboard<2.3.0,>=2.2.0->tensorflow) (3.2.2)\nRequirement already satisfied: requests<3,>=2.21.0 in /Users/jagrusy/opt/miniconda3/lib/python3.7/site-packages (from tensorboard<2.3.0,>=2.2.0->tensorflow) (2.23.0)\nRequirement already satisfied: google-auth<2,>=1.6.3 in /Users/jagrusy/opt/miniconda3/lib/python3.7/site-packages (from tensorboard<2.3.0,>=2.2.0->tensorflow) (1.19.2)\nRequirement already satisfied: google-auth-oauthlib<0.5,>=0.4.1 in /Users/jagrusy/opt/miniconda3/lib/python3.7/site-packages (from tensorboard<2.3.0,>=2.2.0->tensorflow) (0.4.1)\nRequirement already satisfied: tensorboard-plugin-wit>=1.6.0 in /Users/jagrusy/opt/miniconda3/lib/python3.7/site-packages (from tensorboard<2.3.0,>=2.2.0->tensorflow) (1.7.0)\nRequirement already satisfied: importlib-metadata; python_version < \"3.8\" in /Users/jagrusy/opt/miniconda3/lib/python3.7/site-packages (from markdown>=2.6.8->tensorboard<2.3.0,>=2.2.0->tensorflow) (1.7.0)\nRequirement already satisfied: certifi>=2017.4.17 in /Users/jagrusy/opt/miniconda3/lib/python3.7/site-packages (from requests<3,>=2.21.0->tensorboard<2.3.0,>=2.2.0->tensorflow) (2020.6.20)\nRequirement already satisfied: chardet<4,>=3.0.2 in /Users/jagrusy/opt/miniconda3/lib/python3.7/site-packages (from requests<3,>=2.21.0->tensorboard<2.3.0,>=2.2.0->tensorflow) (3.0.4)\nRequirement already satisfied: urllib3!=1.25.0,!=1.25.1,<1.26,>=1.21.1 in /Users/jagrusy/opt/miniconda3/lib/python3.7/site-packages (from requests<3,>=2.21.0->tensorboard<2.3.0,>=2.2.0->tensorflow) (1.25.8)\nRequirement already satisfied: idna<3,>=2.5 in /Users/jagrusy/opt/miniconda3/lib/python3.7/site-packages (from requests<3,>=2.21.0->tensorboard<2.3.0,>=2.2.0->tensorflow) (2.9)\nRequirement already satisfied: pyasn1-modules>=0.2.1 in /Users/jagrusy/opt/miniconda3/lib/python3.7/site-packages (from google-auth<2,>=1.6.3->tensorboard<2.3.0,>=2.2.0->tensorflow) (0.2.8)\nRequirement already satisfied: cachetools<5.0,>=2.0.0 in /Users/jagrusy/opt/miniconda3/lib/python3.7/site-packages (from google-auth<2,>=1.6.3->tensorboard<2.3.0,>=2.2.0->tensorflow) (4.1.1)\nRequirement already satisfied: rsa<5,>=3.1.4; python_version >= \"3\" in /Users/jagrusy/opt/miniconda3/lib/python3.7/site-packages (from google-auth<2,>=1.6.3->tensorboard<2.3.0,>=2.2.0->tensorflow) (4.6)\nRequirement already satisfied: requests-oauthlib>=0.7.0 in /Users/jagrusy/opt/miniconda3/lib/python3.7/site-packages (from google-auth-oauthlib<0.5,>=0.4.1->tensorboard<2.3.0,>=2.2.0->tensorflow) (1.3.0)\nRequirement already satisfied: zipp>=0.5 in /Users/jagrusy/opt/miniconda3/lib/python3.7/site-packages (from importlib-metadata; python_version < \"3.8\"->markdown>=2.6.8->tensorboard<2.3.0,>=2.2.0->tensorflow) (3.1.0)\nRequirement already satisfied: pyasn1<0.5.0,>=0.4.6 in /Users/jagrusy/opt/miniconda3/lib/python3.7/site-packages (from pyasn1-modules>=0.2.1->google-auth<2,>=1.6.3->tensorboard<2.3.0,>=2.2.0->tensorflow) (0.4.8)\nRequirement already satisfied: oauthlib>=3.0.0 in /Users/jagrusy/opt/miniconda3/lib/python3.7/site-packages (from requests-oauthlib>=0.7.0->google-auth-oauthlib<0.5,>=0.4.1->tensorboard<2.3.0,>=2.2.0->tensorflow) (3.1.0)\nRequirement already satisfied: cvxpy in /Users/jagrusy/opt/miniconda3/lib/python3.7/site-packages (1.1.3)\nRequirement already satisfied: scs>=1.1.3 in /Users/jagrusy/opt/miniconda3/lib/python3.7/site-packages (from cvxpy) (2.1.2)\nRequirement already satisfied: osqp>=0.4.1 in /Users/jagrusy/opt/miniconda3/lib/python3.7/site-packages (from cvxpy) (0.6.1)\nRequirement already satisfied: ecos>=2 in /Users/jagrusy/opt/miniconda3/lib/python3.7/site-packages (from cvxpy) (2.0.7.post1)\nRequirement already satisfied: numpy>=1.15 in /Users/jagrusy/opt/miniconda3/lib/python3.7/site-packages (from cvxpy) (1.19.0)\nRequirement already satisfied: scipy>=1.1.0 in /Users/jagrusy/opt/miniconda3/lib/python3.7/site-packages (from cvxpy) (1.4.1)\nRequirement already satisfied: future in /Users/jagrusy/opt/miniconda3/lib/python3.7/site-packages (from osqp>=0.4.1->cvxpy) (0.18.2)\n"
    }
   ],
   "source": [
    "import sys\n",
    "!{sys.executable} -m pip install aif360\n",
    "!{sys.executable} -m pip install tensorflow\n",
    "!{sys.executable} -m pip install cvxpy"
   ]
  },
  {
   "cell_type": "code",
   "execution_count": 3,
   "metadata": {},
   "outputs": [],
   "source": [
    "from aif360.datasets import BinaryLabelDataset\n",
    "from aif360.datasets import CompasDataset\n",
    "\n",
    "from aif360.metrics import BinaryLabelDatasetMetric\n",
    "from aif360.metrics import ClassificationMetric\n",
    "from aif360.metrics.utils import compute_boolean_conditioning_vector\n",
    "\n",
    "from aif360.algorithms.preprocessing import Reweighing\n",
    "from aif360.algorithms.preprocessing.optim_preproc_helpers.data_preproc_functions\\\n",
    "            import load_preproc_data_compas\n",
    "from aif360.algorithms.preprocessing.optim_preproc_helpers.distortion_functions\\\n",
    "            import get_distortion_compas\n",
    "from aif360.algorithms.preprocessing.optim_preproc_helpers.data_preproc_functions import load_preproc_data_compas\n",
    "\n",
    "from IPython.display import Markdown, display\n"
   ]
  },
  {
   "cell_type": "code",
   "execution_count": 4,
   "metadata": {
    "tags": []
   },
   "outputs": [
    {
     "output_type": "stream",
     "name": "stderr",
     "text": "WARNING:root:Missing Data: 5 rows removed from CompasDataset.\n"
    }
   ],
   "source": [
    "dataset = CompasDataset()"
   ]
  },
  {
   "cell_type": "code",
   "execution_count": 5,
   "metadata": {
    "tags": []
   },
   "outputs": [
    {
     "output_type": "display_data",
     "data": {
      "text/plain": "<IPython.core.display.Markdown object>",
      "text/markdown": "### Reading Raw Compas Data"
     },
     "metadata": {}
    },
    {
     "output_type": "stream",
     "name": "stdout",
     "text": "Data shape (num_instances, num_features): (7214, 53)\nFeatures: Index(['id', 'name', 'first', 'last', 'compas_screening_date', 'sex', 'dob',\n       'age', 'age_cat', 'race', 'juv_fel_count', 'decile_score',\n       'juv_misd_count', 'juv_other_count', 'priors_count',\n       'days_b_screening_arrest', 'c_jail_in', 'c_jail_out', 'c_case_number',\n       'c_offense_date', 'c_arrest_date', 'c_days_from_compas',\n       'c_charge_degree', 'c_charge_desc', 'is_recid', 'r_case_number',\n       'r_charge_degree', 'r_days_from_arrest', 'r_offense_date',\n       'r_charge_desc', 'r_jail_in', 'r_jail_out', 'violent_recid',\n       'is_violent_recid', 'vr_case_number', 'vr_charge_degree',\n       'vr_offense_date', 'vr_charge_desc', 'type_of_assessment',\n       'decile_score.1', 'score_text', 'screening_date',\n       'v_type_of_assessment', 'v_decile_score', 'v_score_text',\n       'v_screening_date', 'in_custody', 'out_custody', 'priors_count.1',\n       'start', 'end', 'event', 'two_year_recid'],\n      dtype='object')\n"
    }
   ],
   "source": [
    "display(Markdown(\"### Reading Raw Compas Data\"))\n",
    "df = pd.read_csv(filepath_or_buffer='./compas-scores-two-years.csv')\n",
    "print(\"Data shape (num_instances, num_features):\", df.shape)\n",
    "print(\"Features:\", df.columns)"
   ]
  },
  {
   "cell_type": "code",
   "execution_count": 6,
   "metadata": {},
   "outputs": [
    {
     "output_type": "display_data",
     "data": {
      "text/plain": "<IPython.core.display.Markdown object>",
      "text/markdown": "### Measuring Fairness and Mitigating Bias for Race"
     },
     "metadata": {}
    }
   ],
   "source": [
    "display(Markdown(\"### Measuring Fairness and Mitigating Bias for Race\"))\n",
    "\n",
    "privileged_groups = [{'race': 1}]\n",
    "unprivileged_groups = [{'race': 0}]\n",
    "dataset_orig = load_preproc_data_compas(['race'])\n",
    "\n",
    "dataset_orig_train, dataset_orig_test = dataset_orig.split([0.7], shuffle=True)"
   ]
  },
  {
   "cell_type": "code",
   "execution_count": 7,
   "metadata": {
    "tags": []
   },
   "outputs": [
    {
     "output_type": "display_data",
     "data": {
      "text/plain": "<IPython.core.display.Markdown object>",
      "text/markdown": "#### Original training dataset"
     },
     "metadata": {}
    },
    {
     "output_type": "stream",
     "name": "stdout",
     "text": "Difference in mean outcomes between unprivileged and privileged groups = -0.143724\nDifference in disparate impact between unprivileged and privileged groups = 0.763327\n"
    }
   ],
   "source": [
    "metric_orig_train = BinaryLabelDatasetMetric(dataset_orig_train, \n",
    "                                             unprivileged_groups=unprivileged_groups,\n",
    "                                             privileged_groups=privileged_groups)\n",
    "display(Markdown(\"#### Original training dataset\"))\n",
    "print(\"Difference in mean outcomes between unprivileged and privileged groups = %f\" % metric_orig_train.mean_difference())\n",
    "\n",
    "print(\"Difference in disparate impact between unprivileged and privileged groups = %f\" % metric_orig_train.disparate_impact())"
   ]
  },
  {
   "cell_type": "code",
   "execution_count": 8,
   "metadata": {},
   "outputs": [],
   "source": [
    "RW = Reweighing(unprivileged_groups=unprivileged_groups,\n",
    "                privileged_groups=privileged_groups)\n",
    "dataset_transf_train_rw = RW.fit_transform(dataset_orig_train)"
   ]
  },
  {
   "cell_type": "code",
   "execution_count": 9,
   "metadata": {
    "tags": []
   },
   "outputs": [
    {
     "output_type": "display_data",
     "data": {
      "text/plain": "<IPython.core.display.Markdown object>",
      "text/markdown": "#### Transformed training dataset using Reweighing"
     },
     "metadata": {}
    },
    {
     "output_type": "stream",
     "name": "stdout",
     "text": "Difference in mean outcomes between unprivileged and privileged groups = 0.000000\nDifference in disparate impact between unprivileged and privileged groups = 1.000000\n"
    }
   ],
   "source": [
    "metric_transf_train_rw = BinaryLabelDatasetMetric(dataset_transf_train_rw, unprivileged_groups=unprivileged_groups, privileged_groups=privileged_groups)\n",
    "\n",
    "display(Markdown(\"#### Transformed training dataset using Reweighing\"))\n",
    "print(\"Difference in mean outcomes between unprivileged and privileged groups = %f\" % metric_transf_train_rw.mean_difference())\n",
    "\n",
    "print(\"Difference in disparate impact between unprivileged and privileged groups = %f\" % metric_transf_train_rw.disparate_impact())"
   ]
  },
  {
   "cell_type": "code",
   "execution_count": 10,
   "metadata": {},
   "outputs": [
    {
     "output_type": "display_data",
     "data": {
      "text/plain": "<IPython.core.display.Markdown object>",
      "text/markdown": "### Measuring Fairness and Mitigating Bias for Sex"
     },
     "metadata": {}
    }
   ],
   "source": [
    "display(Markdown(\"### Measuring Fairness and Mitigating Bias for Sex\"))\n",
    "\n",
    "privileged_groups = [{'sex': 1}]\n",
    "unprivileged_groups = [{'sex': 0}]\n",
    "dataset_orig = load_preproc_data_compas(['sex'])\n",
    "\n",
    "dataset_orig_train, dataset_orig_test = dataset_orig.split([0.7], shuffle=True)"
   ]
  },
  {
   "cell_type": "code",
   "execution_count": 11,
   "metadata": {
    "tags": []
   },
   "outputs": [
    {
     "output_type": "display_data",
     "data": {
      "text/plain": "<IPython.core.display.Markdown object>",
      "text/markdown": "#### Original training dataset"
     },
     "metadata": {}
    },
    {
     "output_type": "stream",
     "name": "stdout",
     "text": "Difference in mean outcomes between unprivileged and privileged groups = -0.120096\nDifference in disparate impact between unprivileged and privileged groups = 0.808392\n"
    }
   ],
   "source": [
    "metric_orig_train = BinaryLabelDatasetMetric(dataset_orig_train, \n",
    "                                             unprivileged_groups=unprivileged_groups,\n",
    "                                             privileged_groups=privileged_groups)\n",
    "display(Markdown(\"#### Original training dataset\"))\n",
    "print(\"Difference in mean outcomes between unprivileged and privileged groups = %f\" % metric_orig_train.mean_difference())\n",
    "\n",
    "print(\"Difference in disparate impact between unprivileged and privileged groups = %f\" % metric_orig_train.disparate_impact())"
   ]
  },
  {
   "cell_type": "code",
   "execution_count": 12,
   "metadata": {},
   "outputs": [],
   "source": [
    "RW = Reweighing(unprivileged_groups=unprivileged_groups,\n",
    "                privileged_groups=privileged_groups)\n",
    "dataset_transf_train_rw = RW.fit_transform(dataset_orig_train)"
   ]
  },
  {
   "cell_type": "code",
   "execution_count": 13,
   "metadata": {
    "tags": []
   },
   "outputs": [
    {
     "output_type": "display_data",
     "data": {
      "text/plain": "<IPython.core.display.Markdown object>",
      "text/markdown": "#### Transformed training dataset using Reweighing"
     },
     "metadata": {}
    },
    {
     "output_type": "stream",
     "name": "stdout",
     "text": "Difference in mean outcomes between unprivileged and privileged groups = -0.000000\nDifference in disparate impact between unprivileged and privileged groups = 1.000000\n"
    }
   ],
   "source": [
    "metric_transf_train_rw = BinaryLabelDatasetMetric(dataset_transf_train_rw, unprivileged_groups=unprivileged_groups, privileged_groups=privileged_groups)\n",
    "\n",
    "display(Markdown(\"#### Transformed training dataset using Reweighing\"))\n",
    "print(\"Difference in mean outcomes between unprivileged and privileged groups = %f\" % metric_transf_train_rw.mean_difference())\n",
    "\n",
    "print(\"Difference in disparate impact between unprivileged and privileged groups = %f\" % metric_transf_train_rw.disparate_impact())"
   ]
  },
  {
   "cell_type": "code",
   "execution_count": 14,
   "metadata": {},
   "outputs": [
    {
     "output_type": "display_data",
     "data": {
      "text/plain": "<IPython.core.display.Markdown object>",
      "text/markdown": "### Training a classifier to for original dataset"
     },
     "metadata": {}
    }
   ],
   "source": [
    "display(Markdown(\"### Training a classifier to for original dataset\"))\n",
    "\n"
   ]
  },
  {
   "cell_type": "code",
   "execution_count": 15,
   "metadata": {},
   "outputs": [
    {
     "output_type": "display_data",
     "data": {
      "text/plain": "<IPython.core.display.Markdown object>",
      "text/markdown": "### Training a classifier to for transformed dataset"
     },
     "metadata": {}
    }
   ],
   "source": [
    "display(Markdown(\"### Training a classifier to for transformed dataset\"))"
   ]
  }
 ],
 "metadata": {
  "kernelspec": {
   "display_name": "Python 3",
   "language": "python",
   "name": "python3"
  },
  "language_info": {
   "codemirror_mode": {
    "name": "ipython",
    "version": 3
   },
   "file_extension": ".py",
   "mimetype": "text/x-python",
   "name": "python",
   "nbconvert_exporter": "python",
   "pygments_lexer": "ipython3",
   "version": "3.7.7-final"
  }
 },
 "nbformat": 4,
 "nbformat_minor": 4
}