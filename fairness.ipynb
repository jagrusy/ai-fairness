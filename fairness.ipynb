{
 "cells": [
  {
   "cell_type": "markdown",
   "metadata": {},
   "source": [
    "# AI for Ethics\n",
    "Final Project Summer 2020"
   ]
  },
  {
   "cell_type": "code",
   "execution_count": 1,
   "metadata": {},
   "outputs": [],
   "source": [
    "import pandas as pd\n",
    "import numpy as np\n",
    "import matplotlib.pyplot as plt"
   ]
  },
  {
   "cell_type": "code",
   "execution_count": 2,
   "metadata": {
    "tags": []
   },
   "outputs": [
    {
     "output_type": "stream",
     "name": "stdout",
     "text": "Requirement already satisfied: aif360 in /Users/jagrusy/opt/miniconda3/lib/python3.7/site-packages (0.3.0)\nRequirement already satisfied: numpy>=1.16 in /Users/jagrusy/opt/miniconda3/lib/python3.7/site-packages (from aif360) (1.19.0)\nRequirement already satisfied: matplotlib in /Users/jagrusy/opt/miniconda3/lib/python3.7/site-packages (from aif360) (3.2.2)\nRequirement already satisfied: scikit-learn>=0.21 in /Users/jagrusy/.local/lib/python3.7/site-packages (from aif360) (0.23.1)\nRequirement already satisfied: pandas>=0.24.0 in /Users/jagrusy/opt/miniconda3/lib/python3.7/site-packages (from aif360) (1.0.5)\nRequirement already satisfied: scipy>=1.2.0 in /Users/jagrusy/opt/miniconda3/lib/python3.7/site-packages (from aif360) (1.4.1)\nRequirement already satisfied: cycler>=0.10 in /Users/jagrusy/opt/miniconda3/lib/python3.7/site-packages (from matplotlib->aif360) (0.10.0)\nRequirement already satisfied: kiwisolver>=1.0.1 in /Users/jagrusy/opt/miniconda3/lib/python3.7/site-packages (from matplotlib->aif360) (1.2.0)\nRequirement already satisfied: pyparsing!=2.0.4,!=2.1.2,!=2.1.6,>=2.0.1 in /Users/jagrusy/opt/miniconda3/lib/python3.7/site-packages (from matplotlib->aif360) (2.4.7)\nRequirement already satisfied: python-dateutil>=2.1 in /Users/jagrusy/opt/miniconda3/lib/python3.7/site-packages (from matplotlib->aif360) (2.8.1)\nRequirement already satisfied: joblib>=0.11 in /Users/jagrusy/.local/lib/python3.7/site-packages (from scikit-learn>=0.21->aif360) (0.16.0)\nRequirement already satisfied: threadpoolctl>=2.0.0 in /Users/jagrusy/.local/lib/python3.7/site-packages (from scikit-learn>=0.21->aif360) (2.1.0)\nRequirement already satisfied: pytz>=2017.2 in /Users/jagrusy/opt/miniconda3/lib/python3.7/site-packages (from pandas>=0.24.0->aif360) (2020.1)\nRequirement already satisfied: six in /Users/jagrusy/opt/miniconda3/lib/python3.7/site-packages (from cycler>=0.10->matplotlib->aif360) (1.15.0)\nRequirement already satisfied: tensorflow in /Users/jagrusy/opt/miniconda3/lib/python3.7/site-packages (2.2.0)\nRequirement already satisfied: keras-preprocessing>=1.1.0 in /Users/jagrusy/opt/miniconda3/lib/python3.7/site-packages (from tensorflow) (1.1.2)\nRequirement already satisfied: protobuf>=3.8.0 in /Users/jagrusy/opt/miniconda3/lib/python3.7/site-packages (from tensorflow) (3.12.2)\nRequirement already satisfied: numpy<2.0,>=1.16.0 in /Users/jagrusy/opt/miniconda3/lib/python3.7/site-packages (from tensorflow) (1.19.0)\nRequirement already satisfied: tensorflow-estimator<2.3.0,>=2.2.0 in /Users/jagrusy/opt/miniconda3/lib/python3.7/site-packages (from tensorflow) (2.2.0)\nRequirement already satisfied: six>=1.12.0 in /Users/jagrusy/opt/miniconda3/lib/python3.7/site-packages (from tensorflow) (1.15.0)\nRequirement already satisfied: wheel>=0.26; python_version >= \"3\" in /Users/jagrusy/opt/miniconda3/lib/python3.7/site-packages (from tensorflow) (0.34.2)\nRequirement already satisfied: opt-einsum>=2.3.2 in /Users/jagrusy/opt/miniconda3/lib/python3.7/site-packages (from tensorflow) (3.3.0)\nRequirement already satisfied: h5py<2.11.0,>=2.10.0 in /Users/jagrusy/opt/miniconda3/lib/python3.7/site-packages (from tensorflow) (2.10.0)\nRequirement already satisfied: absl-py>=0.7.0 in /Users/jagrusy/opt/miniconda3/lib/python3.7/site-packages (from tensorflow) (0.9.0)\nRequirement already satisfied: google-pasta>=0.1.8 in /Users/jagrusy/opt/miniconda3/lib/python3.7/site-packages (from tensorflow) (0.2.0)\nRequirement already satisfied: scipy==1.4.1; python_version >= \"3\" in /Users/jagrusy/opt/miniconda3/lib/python3.7/site-packages (from tensorflow) (1.4.1)\nRequirement already satisfied: grpcio>=1.8.6 in /Users/jagrusy/opt/miniconda3/lib/python3.7/site-packages (from tensorflow) (1.30.0)\nRequirement already satisfied: astunparse==1.6.3 in /Users/jagrusy/opt/miniconda3/lib/python3.7/site-packages (from tensorflow) (1.6.3)\nRequirement already satisfied: wrapt>=1.11.1 in /Users/jagrusy/opt/miniconda3/lib/python3.7/site-packages (from tensorflow) (1.12.1)\nRequirement already satisfied: gast==0.3.3 in /Users/jagrusy/opt/miniconda3/lib/python3.7/site-packages (from tensorflow) (0.3.3)\nRequirement already satisfied: tensorboard<2.3.0,>=2.2.0 in /Users/jagrusy/opt/miniconda3/lib/python3.7/site-packages (from tensorflow) (2.2.2)\nRequirement already satisfied: termcolor>=1.1.0 in /Users/jagrusy/opt/miniconda3/lib/python3.7/site-packages (from tensorflow) (1.1.0)\nRequirement already satisfied: setuptools in /Users/jagrusy/opt/miniconda3/lib/python3.7/site-packages (from protobuf>=3.8.0->tensorflow) (47.1.1.post20200604)\nRequirement already satisfied: google-auth<2,>=1.6.3 in /Users/jagrusy/opt/miniconda3/lib/python3.7/site-packages (from tensorboard<2.3.0,>=2.2.0->tensorflow) (1.19.2)\nRequirement already satisfied: requests<3,>=2.21.0 in /Users/jagrusy/opt/miniconda3/lib/python3.7/site-packages (from tensorboard<2.3.0,>=2.2.0->tensorflow) (2.23.0)\nRequirement already satisfied: markdown>=2.6.8 in /Users/jagrusy/opt/miniconda3/lib/python3.7/site-packages (from tensorboard<2.3.0,>=2.2.0->tensorflow) (3.2.2)\nRequirement already satisfied: google-auth-oauthlib<0.5,>=0.4.1 in /Users/jagrusy/opt/miniconda3/lib/python3.7/site-packages (from tensorboard<2.3.0,>=2.2.0->tensorflow) (0.4.1)\nRequirement already satisfied: werkzeug>=0.11.15 in /Users/jagrusy/opt/miniconda3/lib/python3.7/site-packages (from tensorboard<2.3.0,>=2.2.0->tensorflow) (1.0.1)\nRequirement already satisfied: tensorboard-plugin-wit>=1.6.0 in /Users/jagrusy/opt/miniconda3/lib/python3.7/site-packages (from tensorboard<2.3.0,>=2.2.0->tensorflow) (1.7.0)\nRequirement already satisfied: pyasn1-modules>=0.2.1 in /Users/jagrusy/opt/miniconda3/lib/python3.7/site-packages (from google-auth<2,>=1.6.3->tensorboard<2.3.0,>=2.2.0->tensorflow) (0.2.8)\nRequirement already satisfied: cachetools<5.0,>=2.0.0 in /Users/jagrusy/opt/miniconda3/lib/python3.7/site-packages (from google-auth<2,>=1.6.3->tensorboard<2.3.0,>=2.2.0->tensorflow) (4.1.1)\nRequirement already satisfied: rsa<5,>=3.1.4; python_version >= \"3\" in /Users/jagrusy/opt/miniconda3/lib/python3.7/site-packages (from google-auth<2,>=1.6.3->tensorboard<2.3.0,>=2.2.0->tensorflow) (4.6)\nRequirement already satisfied: urllib3!=1.25.0,!=1.25.1,<1.26,>=1.21.1 in /Users/jagrusy/opt/miniconda3/lib/python3.7/site-packages (from requests<3,>=2.21.0->tensorboard<2.3.0,>=2.2.0->tensorflow) (1.25.8)\nRequirement already satisfied: idna<3,>=2.5 in /Users/jagrusy/opt/miniconda3/lib/python3.7/site-packages (from requests<3,>=2.21.0->tensorboard<2.3.0,>=2.2.0->tensorflow) (2.9)\nRequirement already satisfied: chardet<4,>=3.0.2 in /Users/jagrusy/opt/miniconda3/lib/python3.7/site-packages (from requests<3,>=2.21.0->tensorboard<2.3.0,>=2.2.0->tensorflow) (3.0.4)\nRequirement already satisfied: certifi>=2017.4.17 in /Users/jagrusy/opt/miniconda3/lib/python3.7/site-packages (from requests<3,>=2.21.0->tensorboard<2.3.0,>=2.2.0->tensorflow) (2020.6.20)\nRequirement already satisfied: importlib-metadata; python_version < \"3.8\" in /Users/jagrusy/opt/miniconda3/lib/python3.7/site-packages (from markdown>=2.6.8->tensorboard<2.3.0,>=2.2.0->tensorflow) (1.7.0)\nRequirement already satisfied: requests-oauthlib>=0.7.0 in /Users/jagrusy/opt/miniconda3/lib/python3.7/site-packages (from google-auth-oauthlib<0.5,>=0.4.1->tensorboard<2.3.0,>=2.2.0->tensorflow) (1.3.0)\nRequirement already satisfied: pyasn1<0.5.0,>=0.4.6 in /Users/jagrusy/opt/miniconda3/lib/python3.7/site-packages (from pyasn1-modules>=0.2.1->google-auth<2,>=1.6.3->tensorboard<2.3.0,>=2.2.0->tensorflow) (0.4.8)\nRequirement already satisfied: zipp>=0.5 in /Users/jagrusy/opt/miniconda3/lib/python3.7/site-packages (from importlib-metadata; python_version < \"3.8\"->markdown>=2.6.8->tensorboard<2.3.0,>=2.2.0->tensorflow) (3.1.0)\nRequirement already satisfied: oauthlib>=3.0.0 in /Users/jagrusy/opt/miniconda3/lib/python3.7/site-packages (from requests-oauthlib>=0.7.0->google-auth-oauthlib<0.5,>=0.4.1->tensorboard<2.3.0,>=2.2.0->tensorflow) (3.1.0)\n"
    }
   ],
   "source": [
    "import sys\n",
    "!{sys.executable} -m pip install aif360\n",
    "!{sys.executable} -m pip install tensorflow"
   ]
  },
  {
   "cell_type": "code",
   "execution_count": 3,
   "metadata": {},
   "outputs": [],
   "source": [
    "from aif360.datasets import BinaryLabelDataset\n",
    "from aif360.datasets import CompasDataset\n",
    "from aif360.metrics import BinaryLabelDatasetMetric\n",
    "from aif360.metrics import ClassificationMetric\n",
    "from aif360.metrics.utils import compute_boolean_conditioning_vector\n",
    "from aif360.algorithms.preprocessing.optim_preproc import OptimPreproc\n",
    "from aif360.algorithms.preprocessing.optim_preproc_helpers.data_preproc_functions import load_preproc_data_compas\n",
    "from aif360.algorithms.preprocessing.optim_preproc_helpers.distortion_functions import get_distortion_compas\n",
    "from IPython.display import Markdown, display\n"
   ]
  },
  {
   "cell_type": "code",
   "execution_count": 4,
   "metadata": {
    "tags": []
   },
   "outputs": [
    {
     "output_type": "stream",
     "name": "stderr",
     "text": "WARNING:root:Missing Data: 5 rows removed from CompasDataset.\n"
    },
    {
     "output_type": "execute_result",
     "data": {
      "text/plain": "               instance weights            features                            \\\n                                protected attribute       protected attribute   \n                                                sex   age                race   \ninstance names                                                                  \n1                           1.0                 0.0  69.0                 0.0   \n3                           1.0                 0.0  34.0                 0.0   \n4                           1.0                 0.0  24.0                 0.0   \n7                           1.0                 0.0  44.0                 0.0   \n8                           1.0                 0.0  41.0                 1.0   \n...                         ...                 ...   ...                 ...   \n10996                       1.0                 0.0  23.0                 0.0   \n10997                       1.0                 0.0  23.0                 0.0   \n10999                       1.0                 0.0  57.0                 0.0   \n11000                       1.0                 1.0  33.0                 0.0   \n11001                       1.0                 1.0  23.0                 0.0   \n\n                                                                          \\\n                                                                           \n               juv_fel_count juv_misd_count juv_other_count priors_count   \ninstance names                                                             \n1                        0.0            0.0             0.0          0.0   \n3                        0.0            0.0             0.0          0.0   \n4                        0.0            0.0             1.0          4.0   \n7                        0.0            0.0             0.0          0.0   \n8                        0.0            0.0             0.0         14.0   \n...                      ...            ...             ...          ...   \n10996                    0.0            0.0             0.0          0.0   \n10997                    0.0            0.0             0.0          0.0   \n10999                    0.0            0.0             0.0          0.0   \n11000                    0.0            0.0             0.0          3.0   \n11001                    0.0            0.0             0.0          2.0   \n\n                                                        ...  \\\n                                                        ...   \n               age_cat=25 - 45 age_cat=Greater than 45  ...   \ninstance names                                          ...   \n1                          0.0                     1.0  ...   \n3                          1.0                     0.0  ...   \n4                          0.0                     0.0  ...   \n7                          1.0                     0.0  ...   \n8                          1.0                     0.0  ...   \n...                        ...                     ...  ...   \n10996                      0.0                     0.0  ...   \n10997                      0.0                     0.0  ...   \n10999                      0.0                     1.0  ...   \n11000                      1.0                     0.0  ...   \n11001                      0.0                     0.0  ...   \n\n                                                             \\\n                                                              \n               c_charge_desc=Viol Injunct Domestic Violence   \ninstance names                                                \n1                                                       0.0   \n3                                                       0.0   \n4                                                       0.0   \n7                                                       0.0   \n8                                                       0.0   \n...                                                     ...   \n10996                                                   0.0   \n10997                                                   0.0   \n10999                                                   0.0   \n11000                                                   0.0   \n11001                                                   0.0   \n\n                                                             \\\n                                                              \n               c_charge_desc=Viol Injunction Protect Dom Vi   \ninstance names                                                \n1                                                       0.0   \n3                                                       0.0   \n4                                                       0.0   \n7                                                       0.0   \n8                                                       0.0   \n...                                                     ...   \n10996                                                   0.0   \n10997                                                   0.0   \n10999                                                   0.0   \n11000                                                   0.0   \n11001                                                   0.0   \n\n                                                             \\\n                                                              \n               c_charge_desc=Viol Pretrial Release Dom Viol   \ninstance names                                                \n1                                                       0.0   \n3                                                       0.0   \n4                                                       0.0   \n7                                                       0.0   \n8                                                       0.0   \n...                                                     ...   \n10996                                                   0.0   \n10997                                                   0.0   \n10999                                                   0.0   \n11000                                                   0.0   \n11001                                                   0.0   \n\n                                                           \\\n                                                            \n               c_charge_desc=Viol Prot Injunc Repeat Viol   \ninstance names                                              \n1                                                     0.0   \n3                                                     0.0   \n4                                                     0.0   \n7                                                     0.0   \n8                                                     0.0   \n...                                                   ...   \n10996                                                 0.0   \n10997                                                 0.0   \n10999                                                 0.0   \n11000                                                 0.0   \n11001                                                 0.0   \n\n                                                             \\\n                                                              \n               c_charge_desc=Violation License Restrictions   \ninstance names                                                \n1                                                       0.0   \n3                                                       0.0   \n4                                                       0.0   \n7                                                       0.0   \n8                                                       0.0   \n...                                                     ...   \n10996                                                   0.0   \n10997                                                   0.0   \n10999                                                   0.0   \n11000                                                   0.0   \n11001                                                   0.0   \n\n                                                            \\\n                                                             \n               c_charge_desc=Violation Of Boater Safety Id   \ninstance names                                               \n1                                                      0.0   \n3                                                      0.0   \n4                                                      0.0   \n7                                                      0.0   \n8                                                      0.0   \n...                                                    ...   \n10996                                                  0.0   \n10997                                                  0.0   \n10999                                                  0.0   \n11000                                                  0.0   \n11001                                                  0.0   \n\n                                                                                   \\\n                                                                                    \n               c_charge_desc=Violation of Injunction Order/Stalking/Cyberstalking   \ninstance names                                                                      \n1                                                             0.0                   \n3                                                             0.0                   \n4                                                             0.0                   \n7                                                             0.0                   \n8                                                             0.0                   \n...                                                           ...                   \n10996                                                         0.0                   \n10997                                                         0.0                   \n10999                                                         0.0                   \n11000                                                         0.0                   \n11001                                                         0.0                   \n\n                                                                            \\\n                                                                             \n               c_charge_desc=Voyeurism c_charge_desc=arrest case no charge   \ninstance names                                                               \n1                                  0.0                                 0.0   \n3                                  0.0                                 0.0   \n4                                  0.0                                 0.0   \n7                                  0.0                                 0.0   \n8                                  0.0                                 0.0   \n...                                ...                                 ...   \n10996                              0.0                                 0.0   \n10997                              0.0                                 0.0   \n10999                              0.0                                 0.0   \n11000                              0.0                                 0.0   \n11001                              0.0                                 0.0   \n\n               labels  \n                       \n                       \ninstance names         \n1                 0.0  \n3                 1.0  \n4                 1.0  \n7                 0.0  \n8                 1.0  \n...               ...  \n10996             0.0  \n10997             0.0  \n10999             0.0  \n11000             0.0  \n11001             1.0  \n\n[6167 rows x 403 columns]"
     },
     "metadata": {},
     "execution_count": 4
    }
   ],
   "source": [
    "dataset = CompasDataset()\n",
    "dataset"
   ]
  },
  {
   "cell_type": "code",
   "execution_count": 5,
   "metadata": {},
   "outputs": [],
   "source": [
    "privileged_groups = [{'race': 1}]\n",
    "unprivileged_groups = [{'race': 0}]\n",
    "dataset_orig = load_preproc_data_compas(['race'])\n",
    "\n",
    "dataset_orig_train, dataset_orig_vt = dataset_orig.split([0.7], shuffle=True)\n",
    "dataset_orig_valid, dataset_orig_test = dataset_orig_vt.split([0.5], shuffle=True)"
   ]
  },
  {
   "cell_type": "code",
   "execution_count": 6,
   "metadata": {
    "tags": []
   },
   "outputs": [
    {
     "output_type": "display_data",
     "data": {
      "text/plain": "<IPython.core.display.Markdown object>",
      "text/markdown": "#### Training Dataset shape"
     },
     "metadata": {}
    },
    {
     "output_type": "stream",
     "name": "stdout",
     "text": "(3694, 10)\n"
    },
    {
     "output_type": "display_data",
     "data": {
      "text/plain": "<IPython.core.display.Markdown object>",
      "text/markdown": "#### Favorable and unfavorable labels"
     },
     "metadata": {}
    },
    {
     "output_type": "stream",
     "name": "stdout",
     "text": "0.0 1.0\n"
    },
    {
     "output_type": "display_data",
     "data": {
      "text/plain": "<IPython.core.display.Markdown object>",
      "text/markdown": "#### Protected attribute names"
     },
     "metadata": {}
    },
    {
     "output_type": "stream",
     "name": "stdout",
     "text": "['race']\n"
    },
    {
     "output_type": "display_data",
     "data": {
      "text/plain": "<IPython.core.display.Markdown object>",
      "text/markdown": "#### Privileged and unprivileged protected attribute values"
     },
     "metadata": {}
    },
    {
     "output_type": "stream",
     "name": "stdout",
     "text": "[array([1.])] [array([0.])]\n"
    },
    {
     "output_type": "display_data",
     "data": {
      "text/plain": "<IPython.core.display.Markdown object>",
      "text/markdown": "#### Dataset feature names"
     },
     "metadata": {}
    },
    {
     "output_type": "stream",
     "name": "stdout",
     "text": "['sex', 'race', 'age_cat=25 to 45', 'age_cat=Greater than 45', 'age_cat=Less than 25', 'priors_count=0', 'priors_count=1 to 3', 'priors_count=More than 3', 'c_charge_degree=F', 'c_charge_degree=M']\n"
    }
   ],
   "source": [
    "# print out some labels, names, etc.\n",
    "display(Markdown(\"#### Training Dataset shape\"))\n",
    "print(dataset_orig_train.features.shape)\n",
    "display(Markdown(\"#### Favorable and unfavorable labels\"))\n",
    "print(dataset_orig_train.favorable_label, dataset_orig_train.unfavorable_label)\n",
    "display(Markdown(\"#### Protected attribute names\"))\n",
    "print(dataset_orig_train.protected_attribute_names)\n",
    "display(Markdown(\"#### Privileged and unprivileged protected attribute values\"))\n",
    "print(dataset_orig_train.privileged_protected_attributes, \n",
    "      dataset_orig_train.unprivileged_protected_attributes)\n",
    "display(Markdown(\"#### Dataset feature names\"))\n",
    "print(dataset_orig_train.feature_names)"
   ]
  },
  {
   "cell_type": "code",
   "execution_count": 7,
   "metadata": {},
   "outputs": [],
   "source": [
    "df = pd.read_csv(filepath_or_buffer='./compas-scores-two-years.csv')"
   ]
  },
  {
   "cell_type": "code",
   "execution_count": 8,
   "metadata": {},
   "outputs": [
    {
     "output_type": "execute_result",
     "data": {
      "text/plain": "   id                name   first         last compas_screening_date   sex  \\\n0   1    miguel hernandez  miguel    hernandez            2013-08-14  Male   \n1   3         kevon dixon   kevon        dixon            2013-01-27  Male   \n2   4            ed philo      ed        philo            2013-04-14  Male   \n3   5         marcu brown   marcu        brown            2013-01-13  Male   \n4   6  bouthy pierrelouis  bouthy  pierrelouis            2013-03-26  Male   \n\n          dob  age          age_cat              race  ...  v_decile_score  \\\n0  1947-04-18   69  Greater than 45             Other  ...               1   \n1  1982-01-22   34          25 - 45  African-American  ...               1   \n2  1991-05-14   24     Less than 25  African-American  ...               3   \n3  1993-01-21   23     Less than 25  African-American  ...               6   \n4  1973-01-22   43          25 - 45             Other  ...               1   \n\n   v_score_text  v_screening_date  in_custody  out_custody  priors_count.1  \\\n0           Low        2013-08-14  2014-07-07   2014-07-14               0   \n1           Low        2013-01-27  2013-01-26   2013-02-05               0   \n2           Low        2013-04-14  2013-06-16   2013-06-16               4   \n3        Medium        2013-01-13         NaN          NaN               1   \n4           Low        2013-03-26         NaN          NaN               2   \n\n  start   end event two_year_recid  \n0     0   327     0              0  \n1     9   159     1              1  \n2     0    63     0              1  \n3     0  1174     0              0  \n4     0  1102     0              0  \n\n[5 rows x 53 columns]",
      "text/html": "<div>\n<style scoped>\n    .dataframe tbody tr th:only-of-type {\n        vertical-align: middle;\n    }\n\n    .dataframe tbody tr th {\n        vertical-align: top;\n    }\n\n    .dataframe thead th {\n        text-align: right;\n    }\n</style>\n<table border=\"1\" class=\"dataframe\">\n  <thead>\n    <tr style=\"text-align: right;\">\n      <th></th>\n      <th>id</th>\n      <th>name</th>\n      <th>first</th>\n      <th>last</th>\n      <th>compas_screening_date</th>\n      <th>sex</th>\n      <th>dob</th>\n      <th>age</th>\n      <th>age_cat</th>\n      <th>race</th>\n      <th>...</th>\n      <th>v_decile_score</th>\n      <th>v_score_text</th>\n      <th>v_screening_date</th>\n      <th>in_custody</th>\n      <th>out_custody</th>\n      <th>priors_count.1</th>\n      <th>start</th>\n      <th>end</th>\n      <th>event</th>\n      <th>two_year_recid</th>\n    </tr>\n  </thead>\n  <tbody>\n    <tr>\n      <th>0</th>\n      <td>1</td>\n      <td>miguel hernandez</td>\n      <td>miguel</td>\n      <td>hernandez</td>\n      <td>2013-08-14</td>\n      <td>Male</td>\n      <td>1947-04-18</td>\n      <td>69</td>\n      <td>Greater than 45</td>\n      <td>Other</td>\n      <td>...</td>\n      <td>1</td>\n      <td>Low</td>\n      <td>2013-08-14</td>\n      <td>2014-07-07</td>\n      <td>2014-07-14</td>\n      <td>0</td>\n      <td>0</td>\n      <td>327</td>\n      <td>0</td>\n      <td>0</td>\n    </tr>\n    <tr>\n      <th>1</th>\n      <td>3</td>\n      <td>kevon dixon</td>\n      <td>kevon</td>\n      <td>dixon</td>\n      <td>2013-01-27</td>\n      <td>Male</td>\n      <td>1982-01-22</td>\n      <td>34</td>\n      <td>25 - 45</td>\n      <td>African-American</td>\n      <td>...</td>\n      <td>1</td>\n      <td>Low</td>\n      <td>2013-01-27</td>\n      <td>2013-01-26</td>\n      <td>2013-02-05</td>\n      <td>0</td>\n      <td>9</td>\n      <td>159</td>\n      <td>1</td>\n      <td>1</td>\n    </tr>\n    <tr>\n      <th>2</th>\n      <td>4</td>\n      <td>ed philo</td>\n      <td>ed</td>\n      <td>philo</td>\n      <td>2013-04-14</td>\n      <td>Male</td>\n      <td>1991-05-14</td>\n      <td>24</td>\n      <td>Less than 25</td>\n      <td>African-American</td>\n      <td>...</td>\n      <td>3</td>\n      <td>Low</td>\n      <td>2013-04-14</td>\n      <td>2013-06-16</td>\n      <td>2013-06-16</td>\n      <td>4</td>\n      <td>0</td>\n      <td>63</td>\n      <td>0</td>\n      <td>1</td>\n    </tr>\n    <tr>\n      <th>3</th>\n      <td>5</td>\n      <td>marcu brown</td>\n      <td>marcu</td>\n      <td>brown</td>\n      <td>2013-01-13</td>\n      <td>Male</td>\n      <td>1993-01-21</td>\n      <td>23</td>\n      <td>Less than 25</td>\n      <td>African-American</td>\n      <td>...</td>\n      <td>6</td>\n      <td>Medium</td>\n      <td>2013-01-13</td>\n      <td>NaN</td>\n      <td>NaN</td>\n      <td>1</td>\n      <td>0</td>\n      <td>1174</td>\n      <td>0</td>\n      <td>0</td>\n    </tr>\n    <tr>\n      <th>4</th>\n      <td>6</td>\n      <td>bouthy pierrelouis</td>\n      <td>bouthy</td>\n      <td>pierrelouis</td>\n      <td>2013-03-26</td>\n      <td>Male</td>\n      <td>1973-01-22</td>\n      <td>43</td>\n      <td>25 - 45</td>\n      <td>Other</td>\n      <td>...</td>\n      <td>1</td>\n      <td>Low</td>\n      <td>2013-03-26</td>\n      <td>NaN</td>\n      <td>NaN</td>\n      <td>2</td>\n      <td>0</td>\n      <td>1102</td>\n      <td>0</td>\n      <td>0</td>\n    </tr>\n  </tbody>\n</table>\n<p>5 rows × 53 columns</p>\n</div>"
     },
     "metadata": {},
     "execution_count": 8
    }
   ],
   "source": [
    "df.head()"
   ]
  },
  {
   "cell_type": "code",
   "execution_count": 9,
   "metadata": {},
   "outputs": [
    {
     "output_type": "execute_result",
     "data": {
      "text/plain": "(7214, 53)"
     },
     "metadata": {},
     "execution_count": 9
    }
   ],
   "source": [
    "df.shape"
   ]
  },
  {
   "cell_type": "code",
   "execution_count": 10,
   "metadata": {},
   "outputs": [
    {
     "output_type": "execute_result",
     "data": {
      "text/plain": "Index(['id', 'name', 'first', 'last', 'compas_screening_date', 'sex', 'dob',\n       'age', 'age_cat', 'race', 'juv_fel_count', 'decile_score',\n       'juv_misd_count', 'juv_other_count', 'priors_count',\n       'days_b_screening_arrest', 'c_jail_in', 'c_jail_out', 'c_case_number',\n       'c_offense_date', 'c_arrest_date', 'c_days_from_compas',\n       'c_charge_degree', 'c_charge_desc', 'is_recid', 'r_case_number',\n       'r_charge_degree', 'r_days_from_arrest', 'r_offense_date',\n       'r_charge_desc', 'r_jail_in', 'r_jail_out', 'violent_recid',\n       'is_violent_recid', 'vr_case_number', 'vr_charge_degree',\n       'vr_offense_date', 'vr_charge_desc', 'type_of_assessment',\n       'decile_score.1', 'score_text', 'screening_date',\n       'v_type_of_assessment', 'v_decile_score', 'v_score_text',\n       'v_screening_date', 'in_custody', 'out_custody', 'priors_count.1',\n       'start', 'end', 'event', 'two_year_recid'],\n      dtype='object')"
     },
     "metadata": {},
     "execution_count": 10
    }
   ],
   "source": [
    "df.columns"
   ]
  },
  {
   "cell_type": "code",
   "execution_count": null,
   "metadata": {},
   "outputs": [],
   "source": []
  }
 ],
 "metadata": {
  "kernelspec": {
   "display_name": "Python 3",
   "language": "python",
   "name": "python3"
  },
  "language_info": {
   "codemirror_mode": {
    "name": "ipython",
    "version": 3
   },
   "file_extension": ".py",
   "mimetype": "text/x-python",
   "name": "python",
   "nbconvert_exporter": "python",
   "pygments_lexer": "ipython3",
   "version": "3.7.7-final"
  }
 },
 "nbformat": 4,
 "nbformat_minor": 4
}